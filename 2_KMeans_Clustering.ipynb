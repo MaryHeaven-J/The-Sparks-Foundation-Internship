{
  "nbformat": 4,
  "nbformat_minor": 0,
  "metadata": {
    "colab": {
      "provenance": []
    },
    "kernelspec": {
      "name": "python3",
      "display_name": "Python 3"
    },
    "language_info": {
      "name": "python"
    }
  },
  "cells": [
    {
      "cell_type": "markdown",
      "source": [
        "**GRIPJUNE2023 @ The Sparks Foundation Internship**"
      ],
      "metadata": {
        "id": "3e5zmBJd2Sd1"
      }
    },
    {
      "cell_type": "markdown",
      "source": [
        "**Author:** MARY HEAVEN J"
      ],
      "metadata": {
        "id": "B5kLMwqf2cBb"
      }
    },
    {
      "cell_type": "markdown",
      "source": [
        "**Internship in DATA SCIENCE AND BUSINESS ANALYTICS**"
      ],
      "metadata": {
        "id": "MJ3lGyew2ib8"
      }
    },
    {
      "cell_type": "markdown",
      "source": [
        "**Task 2: Prediction using Unsupervised Machine Learning**"
      ],
      "metadata": {
        "id": "W2efhNQa2lka"
      }
    },
    {
      "cell_type": "code",
      "source": [
        "!pip install pyspark"
      ],
      "metadata": {
        "id": "Sj4QuPkX2UJy"
      },
      "execution_count": null,
      "outputs": []
    },
    {
      "cell_type": "code",
      "source": [
        "from pyspark.sql import SparkSession\n",
        "spark = SparkSession.builder.appName(\"KMeans Model\").getOrCreate()"
      ],
      "metadata": {
        "id": "xA4Gnu5Lwr41"
      },
      "execution_count": 3,
      "outputs": []
    },
    {
      "cell_type": "code",
      "source": [
        "data = spark.read.csv('/content/drive/MyDrive/TSF-Internship/Iris.csv',header = True, inferSchema = True)"
      ],
      "metadata": {
        "id": "UdsAzl4ExFeR"
      },
      "execution_count": 4,
      "outputs": []
    },
    {
      "cell_type": "code",
      "source": [
        "data.printSchema()"
      ],
      "metadata": {
        "colab": {
          "base_uri": "https://localhost:8080/"
        },
        "id": "WoFQGxSOxNPN",
        "outputId": "b21c3f86-cfd3-411b-8068-42722fde824b"
      },
      "execution_count": 5,
      "outputs": [
        {
          "output_type": "stream",
          "name": "stdout",
          "text": [
            "root\n",
            " |-- Id: integer (nullable = true)\n",
            " |-- SepalLengthCm: double (nullable = true)\n",
            " |-- SepalWidthCm: double (nullable = true)\n",
            " |-- PetalLengthCm: double (nullable = true)\n",
            " |-- PetalWidthCm: double (nullable = true)\n",
            " |-- Species: string (nullable = true)\n",
            "\n"
          ]
        }
      ]
    },
    {
      "cell_type": "code",
      "source": [
        "data.show(10)"
      ],
      "metadata": {
        "colab": {
          "base_uri": "https://localhost:8080/"
        },
        "id": "32kGncSyxQWT",
        "outputId": "ab51b25b-b887-4b47-96b9-b4a94c8e4a30"
      },
      "execution_count": 6,
      "outputs": [
        {
          "output_type": "stream",
          "name": "stdout",
          "text": [
            "+---+-------------+------------+-------------+------------+-----------+\n",
            "| Id|SepalLengthCm|SepalWidthCm|PetalLengthCm|PetalWidthCm|    Species|\n",
            "+---+-------------+------------+-------------+------------+-----------+\n",
            "|  1|          5.1|         3.5|          1.4|         0.2|Iris-setosa|\n",
            "|  2|          4.9|         3.0|          1.4|         0.2|Iris-setosa|\n",
            "|  3|          4.7|         3.2|          1.3|         0.2|Iris-setosa|\n",
            "|  4|          4.6|         3.1|          1.5|         0.2|Iris-setosa|\n",
            "|  5|          5.0|         3.6|          1.4|         0.2|Iris-setosa|\n",
            "|  6|          5.4|         3.9|          1.7|         0.4|Iris-setosa|\n",
            "|  7|          4.6|         3.4|          1.4|         0.3|Iris-setosa|\n",
            "|  8|          5.0|         3.4|          1.5|         0.2|Iris-setosa|\n",
            "|  9|          4.4|         2.9|          1.4|         0.2|Iris-setosa|\n",
            "| 10|          4.9|         3.1|          1.5|         0.1|Iris-setosa|\n",
            "+---+-------------+------------+-------------+------------+-----------+\n",
            "only showing top 10 rows\n",
            "\n"
          ]
        }
      ]
    },
    {
      "cell_type": "code",
      "source": [
        "data.describe().show()"
      ],
      "metadata": {
        "colab": {
          "base_uri": "https://localhost:8080/"
        },
        "id": "otGwG-mExSnu",
        "outputId": "986b977b-7ad6-4a62-b6e3-4b4593d5c556"
      },
      "execution_count": 7,
      "outputs": [
        {
          "output_type": "stream",
          "name": "stdout",
          "text": [
            "+-------+------------------+------------------+-------------------+------------------+------------------+--------------+\n",
            "|summary|                Id|     SepalLengthCm|       SepalWidthCm|     PetalLengthCm|      PetalWidthCm|       Species|\n",
            "+-------+------------------+------------------+-------------------+------------------+------------------+--------------+\n",
            "|  count|               150|               150|                150|               150|               150|           150|\n",
            "|   mean|              75.5| 5.843333333333335| 3.0540000000000007|3.7586666666666693|1.1986666666666672|          null|\n",
            "| stddev|43.445367992456916|0.8280661279778637|0.43359431136217375| 1.764420419952262|0.7631607417008414|          null|\n",
            "|    min|                 1|               4.3|                2.0|               1.0|               0.1|   Iris-setosa|\n",
            "|    max|               150|               7.9|                4.4|               6.9|               2.5|Iris-virginica|\n",
            "+-------+------------------+------------------+-------------------+------------------+------------------+--------------+\n",
            "\n"
          ]
        }
      ]
    },
    {
      "cell_type": "code",
      "source": [
        "data.columns"
      ],
      "metadata": {
        "colab": {
          "base_uri": "https://localhost:8080/"
        },
        "id": "TfIftkrnxZiK",
        "outputId": "57c0f757-e00d-4be1-ff59-c5b43c16e1d7"
      },
      "execution_count": 8,
      "outputs": [
        {
          "output_type": "execute_result",
          "data": {
            "text/plain": [
              "['Id',\n",
              " 'SepalLengthCm',\n",
              " 'SepalWidthCm',\n",
              " 'PetalLengthCm',\n",
              " 'PetalWidthCm',\n",
              " 'Species']"
            ]
          },
          "metadata": {},
          "execution_count": 8
        }
      ]
    },
    {
      "cell_type": "code",
      "source": [
        "data.count()"
      ],
      "metadata": {
        "colab": {
          "base_uri": "https://localhost:8080/"
        },
        "id": "UnXh7E0qxba6",
        "outputId": "2f9f2d44-4230-45d1-97bb-f7c7d4cf5d77"
      },
      "execution_count": 9,
      "outputs": [
        {
          "output_type": "execute_result",
          "data": {
            "text/plain": [
              "150"
            ]
          },
          "metadata": {},
          "execution_count": 9
        }
      ]
    },
    {
      "cell_type": "code",
      "source": [
        "data=data.withColumnRenamed('SepalLengthCm','sepal_length').withColumnRenamed('SepalWidthCm','sepal_width').withColumnRenamed('PetalLengthCm','petal_length').withColumnRenamed( 'PetalWidthCm','petal_width')"
      ],
      "metadata": {
        "id": "kpDIT3faxey9"
      },
      "execution_count": 10,
      "outputs": []
    },
    {
      "cell_type": "code",
      "source": [
        "data.columns"
      ],
      "metadata": {
        "colab": {
          "base_uri": "https://localhost:8080/"
        },
        "id": "3Ep-AJ6DxnIv",
        "outputId": "3a7f6423-1b07-4fb9-ee89-7f3c98b11ff2"
      },
      "execution_count": 11,
      "outputs": [
        {
          "output_type": "execute_result",
          "data": {
            "text/plain": [
              "['Id', 'sepal_length', 'sepal_width', 'petal_length', 'petal_width', 'Species']"
            ]
          },
          "metadata": {},
          "execution_count": 11
        }
      ]
    },
    {
      "cell_type": "markdown",
      "source": [
        "\n",
        "**DATA PREPROCESSING**"
      ],
      "metadata": {
        "id": "ZgkZRErAz81-"
      }
    },
    {
      "cell_type": "code",
      "source": [
        "from pyspark.ml.feature import VectorAssembler\n",
        "from pyspark.ml.feature import StringIndexer"
      ],
      "metadata": {
        "id": "EBIe3ceOxqQ8"
      },
      "execution_count": 12,
      "outputs": []
    },
    {
      "cell_type": "code",
      "source": [
        "featurecols=[\"sepal_length\", \"sepal_width\", \"petal_length\", \"petal_width\"]\n",
        "assembler = VectorAssembler(inputCols =featurecols,outputCol='features')\n",
        "output=assembler.transform(data)"
      ],
      "metadata": {
        "id": "19GG5FV5xs4D"
      },
      "execution_count": 13,
      "outputs": []
    },
    {
      "cell_type": "code",
      "source": [
        "from pyspark.ml.clustering import KMeans\n",
        "from pyspark.ml.evaluation import ClusteringEvaluator"
      ],
      "metadata": {
        "id": "oz6-D758xut5"
      },
      "execution_count": 14,
      "outputs": []
    },
    {
      "cell_type": "markdown",
      "source": [
        "Silhouette Method"
      ],
      "metadata": {
        "id": "UQtyG1BE0Pm2"
      }
    },
    {
      "cell_type": "code",
      "source": [
        "\n",
        "evaluator = ClusteringEvaluator(featuresCol='features', \\\n",
        "metricName='silhouette', distanceMeasure='squaredEuclidean')\n"
      ],
      "metadata": {
        "id": "MbbdRNThy8IO"
      },
      "execution_count": 15,
      "outputs": []
    },
    {
      "cell_type": "code",
      "source": [
        "silhouette_scores=[]\n",
        "for K in range(2,11):\n",
        "\n",
        "    kmeans=KMeans(featuresCol='features', k=K)\n",
        "\n",
        "    KMeans_fit=kmeans.fit(output)\n",
        "\n",
        "    KMeans_transform=KMeans_fit.transform(output)\n",
        "\n",
        "    evaluation_score=evaluator.evaluate(KMeans_transform)\n",
        "\n",
        "    silhouette_scores.append(evaluation_score)\n",
        "    print(\"Silhouette Score:\",\"K=\",K,evaluation_score)"
      ],
      "metadata": {
        "colab": {
          "base_uri": "https://localhost:8080/"
        },
        "id": "HcolpMy7y8k8",
        "outputId": "05935a33-b333-420c-990e-aeed5a485785"
      },
      "execution_count": 16,
      "outputs": [
        {
          "output_type": "stream",
          "name": "stdout",
          "text": [
            "Silhouette Score: K= 2 0.8501515983265806\n",
            "Silhouette Score: K= 3 0.7342113066202725\n",
            "Silhouette Score: K= 4 0.6766249818097015\n",
            "Silhouette Score: K= 5 0.5576115172427016\n",
            "Silhouette Score: K= 6 0.5383681330070867\n",
            "Silhouette Score: K= 7 0.5361146249783653\n",
            "Silhouette Score: K= 8 0.5106105909110993\n",
            "Silhouette Score: K= 9 0.4833803518449607\n",
            "Silhouette Score: K= 10 0.4528314134292826\n"
          ]
        }
      ]
    },
    {
      "cell_type": "code",
      "source": [
        "import matplotlib.pyplot as plt\n",
        "fig, ax = plt.subplots(1,1, figsize =(10,8))\n",
        "ax.plot(range(2,11),silhouette_scores)\n",
        "ax.set_xlabel('Number of Clusters')\n",
        "ax.set_ylabel('Silhouette Score')"
      ],
      "metadata": {
        "colab": {
          "base_uri": "https://localhost:8080/",
          "height": 713
        },
        "id": "dz4gJe4Cy-hj",
        "outputId": "e6fe3f3f-4297-4fc0-8b5f-7ee42b5f7a2c"
      },
      "execution_count": 17,
      "outputs": [
        {
          "output_type": "execute_result",
          "data": {
            "text/plain": [
              "Text(0, 0.5, 'Silhouette Score')"
            ]
          },
          "metadata": {},
          "execution_count": 17
        },
        {
          "output_type": "display_data",
          "data": {
            "text/plain": [
              "<Figure size 1000x800 with 1 Axes>"
            ],
            "image/png": "[encoded data removed]"
          },
          "metadata": {}
        }
      ]
    },
    {
      "cell_type": "code",
      "source": [
        "kmeans=KMeans(featuresCol='features', k=3)\n",
        "KMeans_Model=kmeans.fit(output)\n",
        "KMeans_Assignments=KMeans_Model.transform(output)\n",
        "KMeans_Assignments.show()"
      ],
      "metadata": {
        "colab": {
          "base_uri": "https://localhost:8080/"
        },
        "id": "2k9HTvj9zRQq",
        "outputId": "b34da67a-6a1a-4df8-f8ad-7eaa6f1411d5"
      },
      "execution_count": 18,
      "outputs": [
        {
          "output_type": "stream",
          "name": "stdout",
          "text": [
            "+---+------------+-----------+------------+-----------+-----------+-----------------+----------+\n",
            "| Id|sepal_length|sepal_width|petal_length|petal_width|    Species|         features|prediction|\n",
            "+---+------------+-----------+------------+-----------+-----------+-----------------+----------+\n",
            "|  1|         5.1|        3.5|         1.4|        0.2|Iris-setosa|[5.1,3.5,1.4,0.2]|         0|\n",
            "|  2|         4.9|        3.0|         1.4|        0.2|Iris-setosa|[4.9,3.0,1.4,0.2]|         0|\n",
            "|  3|         4.7|        3.2|         1.3|        0.2|Iris-setosa|[4.7,3.2,1.3,0.2]|         0|\n",
            "|  4|         4.6|        3.1|         1.5|        0.2|Iris-setosa|[4.6,3.1,1.5,0.2]|         0|\n",
            "|  5|         5.0|        3.6|         1.4|        0.2|Iris-setosa|[5.0,3.6,1.4,0.2]|         0|\n",
            "|  6|         5.4|        3.9|         1.7|        0.4|Iris-setosa|[5.4,3.9,1.7,0.4]|         0|\n",
            "|  7|         4.6|        3.4|         1.4|        0.3|Iris-setosa|[4.6,3.4,1.4,0.3]|         0|\n",
            "|  8|         5.0|        3.4|         1.5|        0.2|Iris-setosa|[5.0,3.4,1.5,0.2]|         0|\n",
            "|  9|         4.4|        2.9|         1.4|        0.2|Iris-setosa|[4.4,2.9,1.4,0.2]|         0|\n",
            "| 10|         4.9|        3.1|         1.5|        0.1|Iris-setosa|[4.9,3.1,1.5,0.1]|         0|\n",
            "| 11|         5.4|        3.7|         1.5|        0.2|Iris-setosa|[5.4,3.7,1.5,0.2]|         0|\n",
            "| 12|         4.8|        3.4|         1.6|        0.2|Iris-setosa|[4.8,3.4,1.6,0.2]|         0|\n",
            "| 13|         4.8|        3.0|         1.4|        0.1|Iris-setosa|[4.8,3.0,1.4,0.1]|         0|\n",
            "| 14|         4.3|        3.0|         1.1|        0.1|Iris-setosa|[4.3,3.0,1.1,0.1]|         0|\n",
            "| 15|         5.8|        4.0|         1.2|        0.2|Iris-setosa|[5.8,4.0,1.2,0.2]|         0|\n",
            "| 16|         5.7|        4.4|         1.5|        0.4|Iris-setosa|[5.7,4.4,1.5,0.4]|         0|\n",
            "| 17|         5.4|        3.9|         1.3|        0.4|Iris-setosa|[5.4,3.9,1.3,0.4]|         0|\n",
            "| 18|         5.1|        3.5|         1.4|        0.3|Iris-setosa|[5.1,3.5,1.4,0.3]|         0|\n",
            "| 19|         5.7|        3.8|         1.7|        0.3|Iris-setosa|[5.7,3.8,1.7,0.3]|         0|\n",
            "| 20|         5.1|        3.8|         1.5|        0.3|Iris-setosa|[5.1,3.8,1.5,0.3]|         0|\n",
            "+---+------------+-----------+------------+-----------+-----------+-----------------+----------+\n",
            "only showing top 20 rows\n",
            "\n"
          ]
        }
      ]
    },
    {
      "cell_type": "code",
      "source": [
        "from pyspark.ml.feature import PCA as PCAml\n",
        "pca = PCAml(k=2, inputCol=\"features\", outputCol=\"pca\")\n",
        "pca_model = pca.fit(output)\n",
        "pca_transformed = pca_model.transform(output)\n",
        "pca_transformed.show(5,False)"
      ],
      "metadata": {
        "colab": {
          "base_uri": "https://localhost:8080/"
        },
        "id": "F1uWrvmpzUme",
        "outputId": "f825caa1-9c74-4069-d18c-150c31e8d201"
      },
      "execution_count": 19,
      "outputs": [
        {
          "output_type": "stream",
          "name": "stdout",
          "text": [
            "+---+------------+-----------+------------+-----------+-----------+-----------------+----------------------------------------+\n",
            "|Id |sepal_length|sepal_width|petal_length|petal_width|Species    |features         |pca                                     |\n",
            "+---+------------+-----------+------------+-----------+-----------+-----------------+----------------------------------------+\n",
            "|1  |5.1         |3.5        |1.4         |0.2        |Iris-setosa|[5.1,3.5,1.4,0.2]|[-2.8271359726790286,-5.641331045573357]|\n",
            "|2  |4.9         |3.0        |1.4         |0.2        |Iris-setosa|[4.9,3.0,1.4,0.2]|[-2.795952482148846,-5.145166883252942] |\n",
            "|3  |4.7         |3.2        |1.3         |0.2        |Iris-setosa|[4.7,3.2,1.3,0.2]|[-2.62152355816506,-5.17737812120394]   |\n",
            "|4  |4.6         |3.1        |1.5         |0.2        |Iris-setosa|[4.6,3.1,1.5,0.2]|[-2.764905900474242,-5.003599415056977] |\n",
            "|5  |5.0         |3.6        |1.4         |0.2        |Iris-setosa|[5.0,3.6,1.4,0.2]|[-2.782750115951662,-5.648648294377423] |\n",
            "+---+------------+-----------+------------+-----------+-----------+-----------------+----------------------------------------+\n",
            "only showing top 5 rows\n",
            "\n"
          ]
        }
      ]
    },
    {
      "cell_type": "code",
      "source": [
        "import numpy as np\n",
        "x_pca = np.array(pca_transformed.rdd.map(lambda row: row.pca).collect())\n",
        "print(x_pca[:5])"
      ],
      "metadata": {
        "colab": {
          "base_uri": "https://localhost:8080/"
        },
        "id": "V7bSwX_pzX1-",
        "outputId": "0fce7132-3f85-45a0-a81e-144100a7f03f"
      },
      "execution_count": 20,
      "outputs": [
        {
          "output_type": "stream",
          "name": "stdout",
          "text": [
            "[[-2.82713597 -5.64133105]\n",
            " [-2.79595248 -5.14516688]\n",
            " [-2.62152356 -5.17737812]\n",
            " [-2.7649059  -5.00359942]\n",
            " [-2.78275012 -5.64864829]]\n"
          ]
        }
      ]
    },
    {
      "cell_type": "code",
      "source": [
        "cluster_assignment = np.array(KMeans_Assignments.rdd.map(lambda row: row.prediction).collect()).reshape(-1,1)\n",
        "print(cluster_assignment[:5])"
      ],
      "metadata": {
        "colab": {
          "base_uri": "https://localhost:8080/"
        },
        "id": "ZDXiwM9LzaSW",
        "outputId": "2fa9ada6-07f0-4d30-f969-acc69f58d924"
      },
      "execution_count": 21,
      "outputs": [
        {
          "output_type": "stream",
          "name": "stdout",
          "text": [
            "[[0]\n",
            " [0]\n",
            " [0]\n",
            " [0]\n",
            " [0]]\n"
          ]
        }
      ]
    },
    {
      "cell_type": "code",
      "source": [
        "pca_data = np.hstack((x_pca,cluster_assignment))\n",
        "print(pca_data[:4])"
      ],
      "metadata": {
        "colab": {
          "base_uri": "https://localhost:8080/"
        },
        "id": "PVQwW6oTzcLJ",
        "outputId": "a0a9a474-5f9f-42c5-8555-274fb232067c"
      },
      "execution_count": 22,
      "outputs": [
        {
          "output_type": "stream",
          "name": "stdout",
          "text": [
            "[[-2.82713597 -5.64133105  0.        ]\n",
            " [-2.79595248 -5.14516688  0.        ]\n",
            " [-2.62152356 -5.17737812  0.        ]\n",
            " [-2.7649059  -5.00359942  0.        ]]\n"
          ]
        }
      ]
    },
    {
      "cell_type": "code",
      "source": [
        "import pandas as pd\n",
        "import seaborn as sns\n",
        "import matplotlib.pyplot as plt\n",
        "\n",
        "\n",
        "pca_df = pd.DataFrame(data=pca_data, columns=(\"1st_principal\", \"2nd_principal\",\"cluster_assignment\"))\n",
        "sns.FacetGrid(pca_df,hue=\"cluster_assignment\", height=6).map(plt.scatter, '1st_principal', '2nd_principal' ).add_legend()\n",
        "\n",
        "plt.show()"
      ],
      "metadata": {
        "colab": {
          "base_uri": "https://localhost:8080/",
          "height": 607
        },
        "id": "wHdRQut6zipv",
        "outputId": "6b7fb41a-8fd9-4de5-b510-5f162ef987fa"
      },
      "execution_count": 23,
      "outputs": [
        {
          "output_type": "display_data",
          "data": {
            "text/plain": [
              "<Figure size 745.861x600 with 1 Axes>"
            ],
            "image/png": "[encoded data removed]"
          },
          "metadata": {}
        }
      ]
    }
  ]
}